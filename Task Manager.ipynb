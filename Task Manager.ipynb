import os
import getpass  #library used to type the passwords without showing the characters

USERS_FILE = "users.txt"

# Load users from file
def load_users():
    users = {}
    if os.path.exists(USERS_FILE):
        with open(USERS_FILE, "r") as f:
            for line in f:
                username, password = line.strip().split(":")
                users[username] = password
    return users

# Register a new user
def register():
    print("\n--- Register ---")
    users = load_users()
    while True:
        username = input("Choose a username: ")
        if username in users:
            print("Username already exists. Try again.")
        else:
            break
    password = getpass.getpass("Choose a password: ")
    save_user(username, password)
    print("Registration successful.\n")

# Save a new user
def save_user(username, password):
    with open(USERS_FILE, "a") as f:
        f.write(f"{username}:{password}\n")
 

# Login existing user
def login():
    print("\n--- Login ---")
    users = load_users()
    username = input("Username: ")
    password = getpass.getpass("Password: ")
    if username in users and users[username] == password:
        print("Login successful.\n")
        return username
    else:
        print("Invalid credentials.\n")
        return None

# Task file path
def task_file(username):
    return f"tasks_{username}.txt"

# Load user tasks
def load_tasks(username):
    tasks = []
    if os.path.exists(task_file(username)):
        with open(task_file(username), "r") as f:
            tasks = [line.strip().split("|") for line in f]
    return tasks

# Save user tasks
def save_tasks(username, tasks):
    with open(task_file(username), "w") as f:
        for task in tasks:
            f.write("|".join(task) + "\n")

# Display tasks
def view_tasks(tasks):
    if not tasks:
        print("No tasks found.\n")
        return
    print("\n--- Your Tasks ---")
    for i, task in enumerate(tasks):
        status = "Done" if task[1] == "1" else "Pending"
        print(f"{i + 1}. {task[0]} [{status}]")
    print()

# Add a new task
def add_task(tasks):
    task_text = input("Enter task: ")
    tasks.append([task_text, "0"])
    print("Task added.\n")

# Mark task as complete
def complete_task(tasks):
    view_tasks(tasks)
    if not tasks:
        return
    try:
        choice = int(input("Enter task number to mark as completed: ")) - 1
        if 0 <= choice < len(tasks):
            tasks[choice][1] = "1"
            print("Task marked as completed.\n")
        else:
            print("Invalid task number.\n")
    except ValueError:
        print("Enter a valid number.\n")

# Delete a task
def delete_task(tasks):
    view_tasks(tasks)
    if not tasks:
        return
    try:
        choice = int(input("Enter task number to delete: ")) - 1
        if 0 <= choice < len(tasks):
            deleted = tasks.pop(choice)
            print(f"Deleted task: {deleted[0]}\n")
        else:
            print("Invalid task number.\n")
    except ValueError:
        print("Enter a valid number.\n")

# Task menu
def task_menu(username):
    tasks = load_tasks(username)
    while True:
        print("--- Task Manager ---")
        print("1. View Tasks")
        print("2. Add Task")
        print("3. Mark Task as Completed")
        print("4. Delete Task")
        print("5. Logout")
        choice = input("Choose an option: ")
        if choice == "1":
            view_tasks(tasks)
        elif choice == "2":
            add_task(tasks)
        elif choice == "3":
            complete_task(tasks)
        elif choice == "4":
            delete_task(tasks)
        elif choice == "5":
            save_tasks(username, tasks)
            print("Logged out.\n")
            break
        else:
            print("Invalid choice.\n")

# Main menu
def main():
    while True:
        print("Welcome to Task Manager")
        print("1. Register")
        print("2. Login")
        print("3. Exit")
        choice = input("Select option: ")
        if choice == "1":
            register()
        elif choice == "2":
            user = login()
            if user:
                task_menu(user)
        elif choice == "3":
            print("Goodbye!")
            break
        else:
            print("Invalid option. Try again.\n")

if __name__ == "__main__":
    main()
