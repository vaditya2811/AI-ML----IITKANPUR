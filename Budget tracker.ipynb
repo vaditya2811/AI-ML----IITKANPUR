{
 "cells": [
  {
   "cell_type": "code",
   "execution_count": 12,
   "id": "80f59463-144b-41c4-98a1-7c8e8dd94b32",
   "metadata": {},
   "outputs": [
    {
     "name": "stdin",
     "output_type": "stream",
     "text": [
      "Enter your monthly budget: $ 2\n"
     ]
    },
    {
     "name": "stdout",
     "output_type": "stream",
     "text": [
      "Budget set successfully!\n",
      "\n",
      "Menu:\n",
      "1. Add Expense\n",
      "2. View Expenses\n",
      "3. Track Budget\n",
      "4. Save Expenses\n",
      "5. Exit\n"
     ]
    },
    {
     "name": "stdin",
     "output_type": "stream",
     "text": [
      "Enter your choice (1-5):  2\n"
     ]
    },
    {
     "name": "stdout",
     "output_type": "stream",
     "text": [
      "2.0\n",
      "Menu:\n",
      "1. Add Expense\n",
      "2. View Expenses\n",
      "3. Track Budget\n",
      "4. Save Expenses\n",
      "5. Exit\n"
     ]
    },
    {
     "name": "stdin",
     "output_type": "stream",
     "text": [
      "Enter your choice (1-5):  5\n"
     ]
    },
    {
     "ename": "NameError",
     "evalue": "name 'save_expenses' is not defined",
     "output_type": "error",
     "traceback": [
      "\u001b[1;31m---------------------------------------------------------------------------\u001b[0m",
      "\u001b[1;31mNameError\u001b[0m                                 Traceback (most recent call last)",
      "Cell \u001b[1;32mIn[12], line 77\u001b[0m\n\u001b[0;32m     75\u001b[0m     set_budget()\n\u001b[0;32m     76\u001b[0m \u001b[38;5;66;03m#    load_expenses()\u001b[39;00m\n\u001b[1;32m---> 77\u001b[0m     menu()\n",
      "Cell \u001b[1;32mIn[12], line 68\u001b[0m, in \u001b[0;36mmenu\u001b[1;34m()\u001b[0m\n\u001b[0;32m     66\u001b[0m     save_expenses()\n\u001b[0;32m     67\u001b[0m \u001b[38;5;28;01melif\u001b[39;00m choice \u001b[38;5;241m==\u001b[39m \u001b[38;5;124m'\u001b[39m\u001b[38;5;124m5\u001b[39m\u001b[38;5;124m'\u001b[39m:\n\u001b[1;32m---> 68\u001b[0m     save_expenses()\n\u001b[0;32m     69\u001b[0m     \u001b[38;5;28mprint\u001b[39m(\u001b[38;5;124m\"\u001b[39m\u001b[38;5;124mExiting... Goodbye!\u001b[39m\u001b[38;5;124m\"\u001b[39m)\n\u001b[0;32m     70\u001b[0m     \u001b[38;5;28;01mbreak\u001b[39;00m\n",
      "\u001b[1;31mNameError\u001b[0m: name 'save_expenses' is not defined"
     ]
    }
   ],
   "source": [
    "import csv\n",
    "import os\n",
    "from datetime import datetime\n",
    "\n",
    "class Budget:\n",
    "    def __init__(self, budget_file=\"budget.txt\"):\n",
    "        self.budget_file = budget_file\n",
    "        self.amount = 0.0\n",
    "        self.load()\n",
    "\n",
    "    def add_budget(self):\n",
    "        budget = float(input(\"Enter your monthly budget: $\"))\n",
    "        with open(BUDGET_FILE, \"w\") as f:\n",
    "            f.write(str(budget))\n",
    "        print(\"Budget set successfully!\\n\")\n",
    "\n",
    "'''\n",
    "def add_expense():\n",
    "    while True:\n",
    "        date_str = input(\"Enter date (YYYY-MM-DD): \")\n",
    "        try:\n",
    "            datetime.strptime(date_str, \"%Y-%m-%d\")\n",
    "            break  # Exit the loop if the format is valid\n",
    "        except ValueError:\n",
    "            print(\"Invalid format! Please enter the date in YYYY-MM-DD format.\") \n",
    "    \n",
    "    category = input(\"Enter category: \")\n",
    "    amount = float(input(\"Enter amount: \"))\n",
    "    description = input(\"Enter description: \")\n",
    "\n",
    "    with open(BUDGET_FILE, \"a\", newline=\"\") as file:\n",
    "        writer = csv.writer(file)\n",
    "        writer.writerow([date_str, category, amount, description])\n",
    "    print(\"Expense added!\")\n",
    "\n",
    "def track_budget():\n",
    "    return\n",
    "\n",
    "def view_expenses():\n",
    "    if not os.path.exists(BUDGET_FILE):\n",
    "        print(\"No expenses found.\")\n",
    "        return\n",
    "\n",
    "    with open(BUDGET_FILE, \"r\") as file:\n",
    "        expenses = file.readlines()\n",
    "        for expense in expenses:\n",
    "            print(expense.strip()) '''\n",
    "\n",
    "def menu():\n",
    "    while True:\n",
    "        print(\"Menu:\")\n",
    "        print(\"1. Add Expense\")\n",
    "        print(\"2. View Expenses\")\n",
    "        print(\"3. Track Budget\")\n",
    "        print(\"4. Save Expenses\")\n",
    "        print(\"5. Exit\")\n",
    "        choice = input(\"Enter your choice (1-5): \")\n",
    "\n",
    "        if choice == '1':\n",
    "            add_expense()\n",
    "        elif choice == '2':\n",
    "            view_expenses()\n",
    "        elif choice == '3':\n",
    "            track_budget()\n",
    "        elif choice == '4':\n",
    "            save_expenses()\n",
    "        elif choice == '5':\n",
    "            save_expenses()\n",
    "            print(\"Exiting... Goodbye!\")\n",
    "            break\n",
    "        else:\n",
    "            print(\"Invalid choice!!!\")\n",
    "\n",
    "if __name__ == \"__main__\":\n",
    "    set_budget()\n",
    "#    load_expenses()\n",
    "    menu()"
   ]
  },
  {
   "cell_type": "code",
   "execution_count": 4,
   "id": "05573df3-a856-4c18-b45e-f3fb0f003b94",
   "metadata": {},
   "outputs": [
    {
     "name": "stdout",
     "output_type": "stream",
     "text": [
      "True\n",
      "0b100\n"
     ]
    }
   ],
   "source": [
    "a = 4\n",
    "print(bool(a))\n",
    "print(bin(a))"
   ]
  },
  {
   "cell_type": "code",
   "execution_count": 6,
   "id": "a1a9b809-1775-4b10-91c8-1fc4f512a70f",
   "metadata": {},
   "outputs": [
    {
     "name": "stdout",
     "output_type": "stream",
     "text": [
      "140709732821528\n"
     ]
    }
   ],
   "source": [
    "print(id(a))"
   ]
  },
  {
   "cell_type": "code",
   "execution_count": null,
   "id": "2851f0b0-122f-4e1d-acf9-3e1ca073bf70",
   "metadata": {},
   "outputs": [],
   "source": []
  }
 ],
 "metadata": {
  "kernelspec": {
   "display_name": "Python 3 (ipykernel)",
   "language": "python",
   "name": "python3"
  },
  "language_info": {
   "codemirror_mode": {
    "name": "ipython",
    "version": 3
   },
   "file_extension": ".py",
   "mimetype": "text/x-python",
   "name": "python",
   "nbconvert_exporter": "python",
   "pygments_lexer": "ipython3",
   "version": "3.12.7"
  }
 },
 "nbformat": 4,
 "nbformat_minor": 5
}
